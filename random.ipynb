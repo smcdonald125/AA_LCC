{
 "cells": [
  {
   "cell_type": "code",
   "execution_count": 12,
   "metadata": {},
   "outputs": [],
   "source": [
    "import geopandas as gpd\n",
    "df1 = (\n",
    "    gpd.read_file(r\"C:\\Users\\smcdonald\\Documents\\Data\\LULCC_2024ed\\AccuracyAssessment\\clean_points\\fuzzy_TA\\DC_lcc.dbf\")\n",
    "    .drop('geometry', axis=1)\n",
    "    .set_index(\"VALUE\")\n",
    ")\n",
    "df2 = (\n",
    "    gpd.read_file(r\"C:\\Users\\smcdonald\\Documents\\Data\\LULCC_2024ed\\AccuracyAssessment\\clean_points\\fuzzy_TA\\DCextent_lcc.dbf\")\n",
    "    .drop('geometry', axis=1)\n",
    "    .set_index(\"VALUE\")\n",
    ")"
   ]
  },
  {
   "cell_type": "code",
   "execution_count": null,
   "metadata": {},
   "outputs": [],
   "source": [
    "df1.loc[:, 'lcc_dc'] = df1.idxmax(axis=1).str.split('_', n=1, expand=True)[1]\n",
    "df2.loc[:, 'lcc_dcext'] = df2.idxmax(axis=1).str.split('_', n=1, expand=True)[1]\n",
    "\n",
    "df1 = df1[['lcc_dc']]\n",
    "df2 = df2[['lcc_dcext']]\n",
    "\n",
    "df = df1.merge(df2, left_index=True, right_index=True, how='outer')\n",
    "\n",
    "df"
   ]
  },
  {
   "cell_type": "code",
   "execution_count": 21,
   "metadata": {},
   "outputs": [],
   "source": [
    "pts = (\n",
    "    gpd.read_file(r\"C:\\Users\\smcdonald\\Documents\\Data\\LULCC_2024ed\\AccuracyAssessment\\clean_points\\lcc_aa_points_cleaned.gpkg\", layer='AA_clean')\n",
    "    .query(\"state == 'DC'\")\n",
    "    .filter(items=['uid', 'type', 'strata_cls', 'StrataMatch', 'geometry'])\n",
    "    .merge(df, left_on='uid', right_index=True, how='left')\n",
    "    .fillna(0)\n",
    ")\n",
    "\n",
    "pts.loc[:, 'lcc_dc'] = pts.lcc_dc.astype(int)\n",
    "pts.loc[:, 'lcc_dcext'] = pts.lcc_dcext.astype(int)"
   ]
  },
  {
   "cell_type": "code",
   "execution_count": null,
   "metadata": {},
   "outputs": [],
   "source": [
    "dc = len(pts.query(\"strata_cls == lcc_dc and strata_cls != 0\"))\n",
    "dce = len(pts.query(\"strata_cls == lcc_dcext and strata_cls != 0\"))\n",
    "comp = len(pts.query(\"lcc_dc == lcc_dcext\"))\n",
    "comp2 = len(pts.query(\"lcc_dc != lcc_dcext\"))\n",
    "\n",
    "\n",
    "# print(f\"DC = DCE: {comp}\")\n",
    "# print(f\"DC != DCE: {comp2}\")\n",
    "# print(f\"DC = strata: {dc}\")\n",
    "# print(f\"DCE = strata: {dce}\")\n",
    "\n",
    "pts.query(\"lcc_dc != lcc_dcext\")\n"
   ]
  }
 ],
 "metadata": {
  "kernelspec": {
   "display_name": "general",
   "language": "python",
   "name": "python3"
  },
  "language_info": {
   "codemirror_mode": {
    "name": "ipython",
    "version": 3
   },
   "file_extension": ".py",
   "mimetype": "text/x-python",
   "name": "python",
   "nbconvert_exporter": "python",
   "pygments_lexer": "ipython3",
   "version": "3.7.13"
  }
 },
 "nbformat": 4,
 "nbformat_minor": 2
}
