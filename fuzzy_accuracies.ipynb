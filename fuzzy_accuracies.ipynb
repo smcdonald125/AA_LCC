{
 "cells": [
  {
   "cell_type": "markdown",
   "metadata": {},
   "source": [
    "# Compute Fuzzy Accuracies\n",
    "### Sarah M. McDonald, smcdonald@chesapeakebay.net"
   ]
  },
  {
   "cell_type": "markdown",
   "metadata": {},
   "source": [
    "Imports and paths"
   ]
  },
  {
   "cell_type": "code",
   "execution_count": 5,
   "metadata": {},
   "outputs": [],
   "source": [
    "# imports\n",
    "import pandas as pd\n",
    "import geopandas as gpd\n",
    "\n",
    "# paths\n",
    "folder = r\"C:\\Users\\smcdonald\\Documents\\Data\\LULCC_2024ed\\AccuracyAssessment\\clean_points\"\n",
    "points_path = f\"{folder}/lcc_aa_points_cleaned.gpkg\"\n",
    "ta_lc  = f\"{folder}/fuzzy_TA/DC_lc_TA_3x3.dbf\"\n",
    "ta_lcc = f\"{folder}/fuzzy_TA/DC_lcc_TA_3x3.dbf\"\n",
    "cw_path = r\"C:\\Users\\smcdonald\\Documents\\Data\\LULCC_2024ed\\AccuracyAssessment\\CIC\\t1-t3_lc_change_values KEY.csv\""
   ]
  },
  {
   "cell_type": "markdown",
   "metadata": {},
   "source": [
    "Read in Data"
   ]
  },
  {
   "cell_type": "code",
   "execution_count": 2,
   "metadata": {},
   "outputs": [
    {
     "name": "stdout",
     "output_type": "stream",
     "text": [
      "Index(['UID', 'VALUE_1', 'VALUE_2', 'VALUE_3', 'VALUE_4', 'VALUE_5', 'VALUE_6',\n",
      "       'VALUE_7', 'VALUE_8', 'VALUE_9', 'VALUE_10', 'VALUE_11', 'VALUE_12'],\n",
      "      dtype='object')\n",
      "Index(['UID', 'VALUE_13', 'VALUE_15', 'VALUE_16', 'VALUE_17', 'VALUE_18',\n",
      "       'VALUE_19', 'VALUE_23', 'VALUE_31', 'VALUE_35', 'VALUE_36', 'VALUE_37',\n",
      "       'VALUE_38', 'VALUE_39', 'VALUE_43', 'VALUE_45', 'VALUE_46', 'VALUE_47',\n",
      "       'VALUE_48', 'VALUE_51', 'VALUE_53', 'VALUE_54', 'VALUE_56', 'VALUE_57',\n",
      "       'VALUE_58', 'VALUE_59', 'VALUE_61', 'VALUE_63', 'VALUE_65', 'VALUE_67',\n",
      "       'VALUE_68', 'VALUE_69', 'VALUE_73', 'VALUE_75', 'VALUE_76', 'VALUE_78',\n",
      "       'VALUE_79', 'VALUE_81', 'VALUE_83', 'VALUE_85', 'VALUE_86', 'VALUE_87',\n",
      "       'VALUE_89', 'VALUE_93', 'VALUE_95', 'VALUE_96', 'VALUE_97', 'VALUE_98',\n",
      "       'VALUE_105', 'VALUE_107', 'VALUE_108', 'VALUE_115', 'VALUE_117',\n",
      "       'VALUE_118', 'VALUE_125', 'VALUE_128', 'VALUE_129', 'VALUE_210',\n",
      "       'VALUE_211', 'VALUE_212', 'VALUE_1003', 'VALUE_1203', 'VALUE_1211'],\n",
      "      dtype='object')\n",
      "Index(['uid', 'state', 'type', 'strata_cls', 'T1_strata', 'T3_strata',\n",
      "       'T1_mapped', 'T3_mapped', 'T1_Truth', 'T3_Truth', 'StrataMatch',\n",
      "       'orig_strata', 'GrndTruth', 'origMap'],\n",
      "      dtype='object')\n"
     ]
    }
   ],
   "source": [
    "lc = (\n",
    "    gpd.read_file(ta_lc)\n",
    "    .drop('geometry', axis=1)\n",
    ")\n",
    "lcc = (\n",
    "    gpd.read_file(ta_lcc)\n",
    "    .drop('geometry', axis=1)\n",
    ")\n",
    "points = (\n",
    "    gpd.read_file(points_path)\n",
    "    .drop('geometry', axis=1)\n",
    ")\n",
    "print(lc.columns)\n",
    "print(lcc.columns)\n",
    "print(points.columns)"
   ]
  },
  {
   "cell_type": "markdown",
   "metadata": {},
   "source": [
    "Merge Ground Truth to TA Data"
   ]
  },
  {
   "cell_type": "code",
   "execution_count": 30,
   "metadata": {},
   "outputs": [],
   "source": [
    "lc_df = (\n",
    "    lc.merge((\n",
    "            points\n",
    "            .filter(items=['uid', 'type', 'GrndTruth', 'validGT'])\n",
    "        )\n",
    "        , left_on='UID', right_on='uid')\n",
    ")\n",
    "\n",
    "lcc_df = (\n",
    "    lcc.merge((\n",
    "            points\n",
    "            .filter(items=['uid', 'type', 'GrndTruth', 'validGT'])\n",
    "        )\n",
    "        , left_on='UID', right_on='uid')\n",
    ")"
   ]
  },
  {
   "cell_type": "markdown",
   "metadata": {},
   "source": [
    "Add the LC Raster Value for Easy Querying"
   ]
  },
  {
   "cell_type": "code",
   "execution_count": 31,
   "metadata": {},
   "outputs": [],
   "source": [
    "cw = pd.read_csv(cw_path)\n",
    "cw.loc[:, 'static'] = cw['class'].str.split(' to ', n=1, expand=True)[1]\n",
    "cw.loc[cw['static'].isna(), 'static'] = cw['class']\n",
    "cw = (\n",
    "    cw\n",
    "    .filter(items=['value','static'], axis=1)\n",
    "    .merge((\n",
    "        cw\n",
    "        .filter(items=['value', 'class'], axis=1)\n",
    "    ), \n",
    "    left_on='static', right_on='class')\n",
    "    .rename(columns={'value_x':'value', 'value_y':'static_value'})\n",
    "    .filter(items=['value', 'static_value'], axis=1)\n",
    ")\n",
    "\n",
    "lc_df = (\n",
    "    lc_df\n",
    "    .merge(cw, left_on='GrndTruth', right_on='value')\n",
    "    .drop('value', axis=1)\n",
    ")"
   ]
  },
  {
   "cell_type": "markdown",
   "metadata": {},
   "source": [
    "Compute Boolean Column showing if the GrndTruth Value Exists within the Window"
   ]
  },
  {
   "cell_type": "code",
   "execution_count": null,
   "metadata": {},
   "outputs": [],
   "source": [
    "# iterate unique Ground Truth values and mark as T/F if any area for that class is present\n"
   ]
  }
 ],
 "metadata": {
  "kernelspec": {
   "display_name": "general",
   "language": "python",
   "name": "python3"
  },
  "language_info": {
   "codemirror_mode": {
    "name": "ipython",
    "version": 3
   },
   "file_extension": ".py",
   "mimetype": "text/x-python",
   "name": "python",
   "nbconvert_exporter": "python",
   "pygments_lexer": "ipython3",
   "version": "3.7.13"
  }
 },
 "nbformat": 4,
 "nbformat_minor": 2
}
