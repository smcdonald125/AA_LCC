{
 "cells": [
  {
   "cell_type": "markdown",
   "metadata": {},
   "source": [
    "# Compute Fuzzy Accuracies\n",
    "### Sarah M. McDonald, smcdonald@chesapeakebay.net"
   ]
  },
  {
   "cell_type": "markdown",
   "metadata": {},
   "source": [
    "Imports and paths"
   ]
  },
  {
   "cell_type": "code",
   "execution_count": 100,
   "metadata": {},
   "outputs": [],
   "source": [
    "# imports\n",
    "import pandas as pd\n",
    "import geopandas as gpd\n",
    "import os\n",
    "from openpyxl import load_workbook\n",
    "\n",
    "# paths\n",
    "folder = r\"\" # path to folder containing data\n",
    "points_path = f\"{folder}/clean_points/lcc_aa_points_cleaned.gpkg\"\n",
    "ta_lc  = f\"{folder}/clean_points/fuzzy_TA/DC_lc_TA_3x3.dbf\"\n",
    "ta_lcc = f\"{folder}/clean_points/fuzzy_TA/DC_lcc_TA_3x3.dbf\"\n",
    "cw_path = f\"{folder}/CIC/t1-t3_lc_change_values KEY.csv\"\n",
    "excel_path = f\"{folder}/clean_points/fuzzy_TA/summary_tables/DC_fuzzy3x3_tables.xlsx\" # fuzzy accurracy tables"
   ]
  },
  {
   "cell_type": "markdown",
   "metadata": {},
   "source": [
    "Read in Data"
   ]
  },
  {
   "cell_type": "code",
   "execution_count": null,
   "metadata": {},
   "outputs": [],
   "source": [
    "lc = (\n",
    "    gpd.read_file(ta_lc)\n",
    "    .drop('geometry', axis=1)\n",
    ")\n",
    "lcc = (\n",
    "    gpd.read_file(ta_lcc)\n",
    "    .drop('geometry', axis=1)\n",
    ")\n",
    "points = (\n",
    "    gpd.read_file(points_path)\n",
    "    .drop('geometry', axis=1)\n",
    ")\n",
    "\n",
    "if os.path.isfile(excel_path):\n",
    "    print(\"Excel path exists - deleting\")\n",
    "    os.remove(excel_path)\n",
    "\n",
    "# write TA to workbook\n",
    "lc.to_excel(excel_path, sheet_name=\"lc_TA\", index=False)\n",
    "book = load_workbook(excel_path)\n",
    "writer = pd.ExcelWriter(excel_path, engine = 'openpyxl')\n",
    "writer.book = book\n",
    "lcc.to_excel(writer, sheet_name=\"lcc_TA\", index=False)\n",
    "writer.close()"
   ]
  },
  {
   "cell_type": "markdown",
   "metadata": {},
   "source": [
    "Merge Ground Truth to TA Data"
   ]
  },
  {
   "cell_type": "code",
   "execution_count": 102,
   "metadata": {},
   "outputs": [],
   "source": [
    "lc_df = (\n",
    "    lc.merge(\n",
    "        (\n",
    "            points\n",
    "            .filter(items=['uid', 'GrndTruth'], axis=1)\n",
    "        )\n",
    "        , left_on='UID', right_on='uid'\n",
    "    )\n",
    ")\n",
    "\n",
    "lcc_df = (\n",
    "    lcc.merge(\n",
    "        (\n",
    "            points\n",
    "            .filter(items=['uid','GrndTruth'], axis=1)\n",
    "        )\n",
    "        , left_on='UID', right_on='uid'\n",
    "    )\n",
    ")"
   ]
  },
  {
   "cell_type": "markdown",
   "metadata": {},
   "source": [
    "Add the LC Raster Value for Easy Querying"
   ]
  },
  {
   "cell_type": "code",
   "execution_count": 103,
   "metadata": {},
   "outputs": [],
   "source": [
    "cw = pd.read_csv(cw_path)\n",
    "cw.loc[:, 'static'] = cw['class'].str.split(' to ', n=1, expand=True)[1]\n",
    "cw.loc[cw['static'].isna(), 'static'] = cw['class']\n",
    "cw = (\n",
    "    cw\n",
    "    .filter(items=['value','static'], axis=1)\n",
    "    .merge((\n",
    "        cw\n",
    "        .filter(items=['value', 'class'], axis=1)\n",
    "    ), \n",
    "    left_on='static', right_on='class')\n",
    "    .rename(columns={'value_x':'value', 'value_y':'GT_static'})\n",
    "    .filter(items=['value', 'GT_static'], axis=1)\n",
    ")\n",
    "\n",
    "lc_df = (\n",
    "    lc_df\n",
    "    .merge(cw, left_on='GrndTruth', right_on='value')\n",
    "    .drop('value', axis=1)\n",
    ")\n",
    "\n",
    "points = (\n",
    "    points\n",
    "    .merge(cw, left_on='origMap', right_on='value', how='left')\n",
    "    .rename(columns={'GT_static':'Map_static'})\n",
    ")"
   ]
  },
  {
   "cell_type": "markdown",
   "metadata": {},
   "source": [
    "Compute Boolean Column showing if the GrndTruth Value Exists within the Window"
   ]
  },
  {
   "cell_type": "code",
   "execution_count": 104,
   "metadata": {},
   "outputs": [],
   "source": [
    "# get list of unique ground truth values\n",
    "lc_gt  = lc_df['GT_static'].unique().tolist()\n",
    "lcc_gt = lcc_df['GrndTruth'].unique().tolist()\n",
    "\n",
    "# iterate unique Ground Truth values and mark as T/F if any area for that class is present\n",
    "lc_df.loc[:, 'GT_st_3x3'] = False\n",
    "for lc in lc_gt:\n",
    "    col = f\"VALUE_{lc}\" \n",
    "    if col in lc_df.columns:\n",
    "        lc_df.loc[(lc_df['GT_static']==lc)&(lc_df[col] > 0), 'GT_st_3x3'] = True\n",
    "\n",
    "# iterate unique Ground Truth values and mark as T/F if any area for that class is present\n",
    "lcc_df.loc[:, 'GT_ch_3x3'] = False\n",
    "for lcc in lcc_gt:\n",
    "    col = f\"VALUE_{lcc}\" \n",
    "    if col in lcc_df.columns:\n",
    "        lcc_df.loc[(lcc_df['GrndTruth']==lcc)&(lcc_df[col] > 0), 'GT_ch_3x3'] = True"
   ]
  },
  {
   "cell_type": "markdown",
   "metadata": {},
   "source": [
    "Merge results into single table"
   ]
  },
  {
   "cell_type": "code",
   "execution_count": 105,
   "metadata": {},
   "outputs": [],
   "source": [
    "df = (\n",
    "    lc_df\n",
    "    .filter(items=['uid', 'GT_static' , 'GT_st_3x3'], axis=1)\n",
    "    .merge(\n",
    "        (\n",
    "            lcc_df\n",
    "            .filter(items=['uid', 'GT_ch_3x3'], axis=1)\n",
    "        ),\n",
    "        on='uid',\n",
    "        how='outer'\n",
    "    )\n",
    "    .merge(\n",
    "        (\n",
    "            points\n",
    "            .filter(items=['uid', 'type', 'GrndTruth', 'strata_cls', 'validGT', 'StrataMatch', 'Map_static'])\n",
    "        ),\n",
    "        on='uid',\n",
    "        how='left'\n",
    "    )\n",
    ")\n",
    "\n",
    "df = df[['uid', 'type', 'strata_cls', 'Map_static', 'GrndTruth', 'GT_ch_3x3', 'GT_static', 'GT_st_3x3', 'validGT', 'StrataMatch']]\n",
    "df = df.sort_values('uid')\n",
    "\n",
    "# write confusion matrices\n",
    "book = load_workbook(excel_path)\n",
    "writer = pd.ExcelWriter(excel_path, engine = 'openpyxl')\n",
    "writer.book = book\n",
    "df.to_excel(writer, sheet_name=\"all_data\", index=False)\n",
    "writer.close()"
   ]
  },
  {
   "cell_type": "markdown",
   "metadata": {},
   "source": [
    "Summarize Results for Static"
   ]
  },
  {
   "cell_type": "code",
   "execution_count": 106,
   "metadata": {},
   "outputs": [],
   "source": [
    "def get_pivot(df_):\n",
    "    # calculate \"True\" where fuzzy is true\n",
    "    df_T = (\n",
    "        df_\n",
    "        .query(\"GT_st_3x3\")\n",
    "        .drop(\"Map_static\", axis=1)\n",
    "        .groupby(['GT_static', 'GT_st_3x3'])\n",
    "        .sum()\n",
    "        .reset_index()\n",
    "    )\n",
    "\n",
    "    # update mapped value to match gt\n",
    "    df_T.loc[:, \"Map_static\"] = df_T.GT_static\n",
    "\n",
    "    # compute pivot table\n",
    "    pivot = (\n",
    "        df_\n",
    "        .query(\"not GT_st_3x3\")\n",
    "        .append(df_T)\n",
    "        .pivot(columns=\"GT_static\", index=\"Map_static\", values=\"count\")\n",
    "        .fillna(0)\n",
    "    )\n",
    "\n",
    "    # reorganize to be 1-12 and add missing rows/columns \n",
    "    lcs = [i for i in range(1, 13)]\n",
    "    pivot = pivot.reindex(lcs, axis=0, fill_value=0)\n",
    "    pivot = pivot.reindex(lcs, axis=1, fill_value=0)\n",
    "\n",
    "    # compute totals\n",
    "    pivot.loc[:, 'frequency'] = pivot.sum(axis=1)\n",
    "    pivot.loc['frequency'] = pivot.sum(axis=0)\n",
    "\n",
    "    # compute PA and UA\n",
    "    diag_sum = 0\n",
    "    for lc in lcs:\n",
    "        pivot.loc[lc, 'UA'] = pivot.loc[lc, lc] / pivot.loc[lc, 'frequency']\n",
    "        pivot.loc['PA', lc] = pivot.loc[lc, lc] / pivot.loc['frequency', lc]\n",
    "        diag_sum += pivot.loc[lc, lc]\n",
    "\n",
    "    # calculate overall accuracy\n",
    "    pivot.loc['PA', 'UA'] = diag_sum / pivot.loc['frequency', 'frequency']\n",
    "\n",
    "    return pivot\n"
   ]
  },
  {
   "cell_type": "code",
   "execution_count": null,
   "metadata": {},
   "outputs": [],
   "source": [
    "# all info for static matrices\n",
    "static_all = (\n",
    "    df\n",
    "    .filter(['GT_static', 'Map_static', 'GT_st_3x3'], axis=1)\n",
    "    .groupby(['GT_static', 'Map_static', 'GT_st_3x3'])\n",
    "    .size()\n",
    "    .reset_index()\n",
    "    .rename(columns={0:\"count\"})\n",
    ")\n",
    "\n",
    "all_static_pivot = get_pivot(static_all)\n",
    "\n",
    "# static info for non-change pixels (i.e. buffers and static)\n",
    "static_noChange = (\n",
    "    df\n",
    "    .query(\"type != 'change'\")\n",
    "    .filter(['GT_static', 'Map_static','GT_st_3x3'], axis=1)\n",
    "    .groupby(['GT_static', 'Map_static', 'GT_st_3x3'])\n",
    "    .size()\n",
    "    .reset_index()\n",
    "    .rename(columns={0:\"count\"})\n",
    ")\n",
    "\n",
    "static_noChange_pivot = get_pivot(static_noChange)\n",
    "\n",
    "# static info from static points only\n",
    "static_noBuffer = (\n",
    "    df\n",
    "    .query(\"type == 'static'\")\n",
    "    .filter(['GT_static', 'Map_static', 'GT_st_3x3'], axis=1)\n",
    "    .groupby(['GT_static', 'Map_static', 'GT_st_3x3'])\n",
    "    .size()\n",
    "    .reset_index()\n",
    "    .rename(columns={0:\"count\"})\n",
    ")\n",
    "\n",
    "static_noBuffer_pivot = get_pivot(static_noBuffer)\n",
    "\n",
    "# write confusion matrices\n",
    "book = load_workbook(excel_path)\n",
    "writer = pd.ExcelWriter(excel_path, engine = 'openpyxl')\n",
    "writer.book = book\n",
    "all_static_pivot.to_excel(writer, sheet_name=\"st_confusion_all\")\n",
    "static_noChange_pivot.to_excel(writer, sheet_name=\"st_confusion_bufStatic\")\n",
    "static_noBuffer_pivot.to_excel(writer, sheet_name=\"st_confusion_staticOnly\")\n",
    "writer.close()"
   ]
  }
 ],
 "metadata": {
  "kernelspec": {
   "display_name": "general",
   "language": "python",
   "name": "python3"
  },
  "language_info": {
   "codemirror_mode": {
    "name": "ipython",
    "version": 3
   },
   "file_extension": ".py",
   "mimetype": "text/x-python",
   "name": "python",
   "nbconvert_exporter": "python",
   "pygments_lexer": "ipython3",
   "version": "3.7.13"
  }
 },
 "nbformat": 4,
 "nbformat_minor": 2
}
